{
  "cells": [
    {
      "cell_type": "markdown",
      "metadata": {
        "id": "view-in-github",
        "colab_type": "text"
      },
      "source": [
        "<a href=\"https://colab.research.google.com/github/the-crHack/Radial-wave-function-of-Hatom/blob/main/mini.ipynb\" target=\"_parent\"><img src=\"https://colab.research.google.com/assets/colab-badge.svg\" alt=\"Open In Colab\"/></a>"
      ]
    },
    {
      "cell_type": "code",
      "execution_count": null,
      "metadata": {
        "colab": {
          "base_uri": "https://localhost:8080/"
        },
        "id": "obV57_VU7LIF",
        "outputId": "7e3ba47e-5c7d-4beb-f153-fcde06136a1e"
      },
      "outputs": [
        {
          "output_type": "stream",
          "name": "stderr",
          "text": [
            "/usr/local/lib/python3.7/dist-packages/IPython/core/interactiveshell.py:2882: DtypeWarning: Columns (85) have mixed types.Specify dtype option on import or set low_memory=False.\n",
            "  exec(code_obj, self.user_global_ns, self.user_ns)\n"
          ]
        }
      ],
      "source": [
        "# Importing the libraries\n",
        "\n",
        "import numpy as np\n",
        "import matplotlib.pyplot as plt\n",
        "import pandas as pd\n",
        "\n",
        "# Importing the datasets\n",
        "\n",
        "df = pd.read_csv('/content/drive/MyDrive/data.csv',sep = ',',skipinitialspace = True)\n",
        "df.columns = df.columns.str.replace(' ', '_')\n",
        "df.drop(df.columns[df.columns.str.contains('unnamed',case = False)],axis = 1, inplace = True)\n",
        "\n",
        "\n"
      ]
    },
    {
      "cell_type": "code",
      "execution_count": null,
      "metadata": {
        "colab": {
          "base_uri": "https://localhost:8080/"
        },
        "id": "as_MB5lJMWFU",
        "outputId": "23651826-6e55-406f-860b-e1a904924bb9"
      },
      "outputs": [
        {
          "output_type": "stream",
          "name": "stdout",
          "text": [
            "SimillarHTTP\n"
          ]
        }
      ],
      "source": [
        "for col in df.columns:                                                                              #####this dataset has mixed dataypes so this sninppet is to identify such coloums\n",
        "    weird = (df[[col]].applymap(type) != df[[col]].iloc[0].apply(type)).any(axis=1)\n",
        "    if len(df[weird]) > 0:\n",
        "        print(col)"
      ]
    },
    {
      "cell_type": "markdown",
      "source": [
        "# **Removing unwanted Features**"
      ],
      "metadata": {
        "id": "8VduiUDFPxpU"
      }
    },
    {
      "cell_type": "code",
      "execution_count": null,
      "metadata": {
        "id": "arh7KUwvPVA-"
      },
      "outputs": [],
      "source": [
        "df.dropna(how='all', axis='columns')                                                                                                ####dropping all nan coloumns\n",
        "df = df.loc[(df != 0).any(axis=1)]                                                                                                  ####dropping alll coloums who all the values are zero\n",
        "df = df.drop(['SimillarHTTP','Flow_ID','Timestamp','Fwd_Avg_Bytes/Bulk','Bwd_PSH_Flags','Fwd_URG_Flags','Bwd_URG_Flags','FIN_Flag_Count','ECE_Flag_Count','Fwd_Avg_Packets/Bulk','Bwd_Avg_Packets/Bulk','Fwd_Avg_Bytes/Bulk','Fwd_Avg_Bulk_Rate','Bwd_Avg_Bulk_Rate','Active_Mean', 'Active_Std', 'Active_Max',\n",
        "       'Active_Min', 'Idle_Mean', 'Idle_Std', 'Idle_Max', 'Idle_Min', 'Fwd_IAT_Min', 'Bwd_IAT_Total', 'Bwd_IAT_Mean',\n",
        "       'Bwd_IAT_Std', 'Bwd_IAT_Max', 'Bwd_IAT_Min', 'Fwd_PSH_Flags',\n",
        "       'Bwd_Header_Length', 'Fwd_Packets/s',\n",
        "       'Bwd_Packets/s', 'Min_Packet_Length', 'Max_Packet_Length',\n",
        "       'Packet_Length_Std',\n",
        "       'SYN_Flag_Count', 'RST_Flag_Count', 'PSH_Flag_Count', 'ACK_Flag_Count',\n",
        "       'URG_Flag_Count', 'CWE_Flag_Count', 'Down/Up_Ratio',\n",
        "        'Avg_Fwd_Segment_Size', 'Avg_Bwd_Segment_Size'\n",
        "       , 'Bwd_Avg_Bytes/Bulk', 'Subflow_Fwd_Packets',\n",
        "        'Subflow_Bwd_Bytes'\n",
        "       , 'act_data_pkt_fwd',\n",
        "       'min_seg_size_forward','Source_Port', 'Destination_Port',\n",
        "       'Protocol','Source_Port','Destination_Port','Fwd_Packet_Length_Min', 'Fwd_Packet_Length_Mean',\n",
        "       'Fwd_Packet_Length_Std', 'Bwd_Packet_Length_Max',\n",
        "       'Bwd_Packet_Length_Min', 'Bwd_Packet_Length_Mean',\n",
        "       'Bwd_Packet_Length_Std','Inbound' ], axis=1)                                                                                   #### these coloums were found useless from feature selection so removed them"
      ]
    },
    {
      "cell_type": "code",
      "execution_count": null,
      "metadata": {
        "id": "ZAM_T3BCCfIH"
      },
      "outputs": [],
      "source": [
        "from sklearn.preprocessing import LabelEncoder\n",
        "#using label Encoder\n",
        "le=LabelEncoder()\n",
        "#features which we need to encode from the selected set of features\n",
        "Feature=['Source_IP','Destination_IP','Label']\n",
        "for i in range(len(Feature)):\n",
        "    df[Feature[i]]=le.fit_transform(df[Feature[i]])"
      ]
    },
    {
      "cell_type": "code",
      "source": [
        ""
      ],
      "metadata": {
        "id": "ptU6yqvmnGix"
      },
      "execution_count": null,
      "outputs": []
    },
    {
      "cell_type": "code",
      "execution_count": null,
      "metadata": {
        "colab": {
          "base_uri": "https://localhost:8080/",
          "height": 488
        },
        "id": "-tmlE8sdPujE",
        "outputId": "9e866b1c-be3d-4219-f481-729128a2f331"
      },
      "outputs": [
        {
          "output_type": "execute_result",
          "data": {
            "text/plain": [
              "    Source_IP  Destination_IP  Flow_Duration  Total_Fwd_Packets  \\\n",
              "0          24             146        5220876                 12   \n",
              "1          24             146       12644252                  5   \n",
              "2         313             150              3                  2   \n",
              "3         313             150              3                  2   \n",
              "4         133             194      114329232                 52   \n",
              "..        ...             ...            ...                ...   \n",
              "95        136             357          55463                  1   \n",
              "96        136             357        1680140                 19   \n",
              "97        136             357       15353246                 14   \n",
              "98        321             150            166                  1   \n",
              "99        321             150            104                  1   \n",
              "\n",
              "    Total_Backward_Packets  Total_Length_of_Fwd_Packets  \\\n",
              "0                        9                       1928.0   \n",
              "1                        2                          0.0   \n",
              "2                        0                          0.0   \n",
              "3                        0                          0.0   \n",
              "4                        0                          0.0   \n",
              "..                     ...                          ...   \n",
              "95                       3                          0.0   \n",
              "96                      20                       2424.0   \n",
              "97                      16                       1462.0   \n",
              "98                       2                          0.0   \n",
              "99                       2                          0.0   \n",
              "\n",
              "    Total_Length_of_Bwd_Packets  Fwd_Packet_Length_Max  Flow_Bytes/s  \\\n",
              "0                        4290.0                  509.0   1190.987873   \n",
              "1                           0.0                    0.0      0.000000   \n",
              "2                           0.0                    0.0      0.000000   \n",
              "3                           0.0                    0.0      0.000000   \n",
              "4                           0.0                    0.0      0.000000   \n",
              "..                          ...                    ...           ...   \n",
              "95                          0.0                    0.0      0.000000   \n",
              "96                      26090.0                  482.0  16971.204781   \n",
              "97                      12670.0                  377.0    920.456821   \n",
              "98                          0.0                    0.0      0.000000   \n",
              "99                          0.0                    0.0      0.000000   \n",
              "\n",
              "    Flow_Packets/s  ...  Fwd_Header_Length  Packet_Length_Mean  \\\n",
              "0         4.022313  ...                400          282.636364   \n",
              "1         0.553611  ...                176            0.000000   \n",
              "2    666666.666667  ...                 40            0.000000   \n",
              "3    666666.666667  ...                 40            0.000000   \n",
              "4         0.454827  ...                  0            0.000000   \n",
              "..             ...  ...                ...                 ...   \n",
              "95       72.120152  ...                 20            0.000000   \n",
              "96       23.212351  ...                404          712.850000   \n",
              "97        1.953984  ...                304          455.870968   \n",
              "98    18072.289157  ...                 20            0.000000   \n",
              "99    28846.153846  ...                 20            0.000000   \n",
              "\n",
              "    Packet_Length_Variance  Average_Packet_Size  Fwd_Header_Length.1  \\\n",
              "0            179800.242424           296.095238                  400   \n",
              "1                 0.000000             0.000000                  176   \n",
              "2                 0.000000             0.000000                   40   \n",
              "3                 0.000000             0.000000                   40   \n",
              "4                 0.000000             0.000000                    0   \n",
              "..                     ...                  ...                  ...   \n",
              "95                0.000000             0.000000                   20   \n",
              "96           931836.541026           731.128205                  404   \n",
              "97           721533.849462           471.066667                  304   \n",
              "98                0.000000             0.000000                   20   \n",
              "99                0.000000             0.000000                   20   \n",
              "\n",
              "    Subflow_Fwd_Bytes  Subflow_Bwd_Packets  Init_Win_bytes_forward  \\\n",
              "0                1928                    9                   65535   \n",
              "1                   0                    2                   65535   \n",
              "2                   0                    0                       0   \n",
              "3                   0                    0                       0   \n",
              "4                   0                    0                      -1   \n",
              "..                ...                  ...                     ...   \n",
              "95                  0                    3                     256   \n",
              "96               2424                   20                   64240   \n",
              "97               1462                   16                   64240   \n",
              "98                  0                    2                    1892   \n",
              "99                  0                    2                    1892   \n",
              "\n",
              "    Init_Win_bytes_backward  Label  \n",
              "0                       243      1  \n",
              "1                     28960      1  \n",
              "2                        -1      0  \n",
              "3                        -1      0  \n",
              "4                        -1      0  \n",
              "..                      ...    ...  \n",
              "95                     1892      0  \n",
              "96                     1959      0  \n",
              "97                     1959      0  \n",
              "98                      256      0  \n",
              "99                      256      0  \n",
              "\n",
              "[100 rows x 28 columns]"
            ],
            "text/html": [
              "\n",
              "  <div id=\"df-f02d82db-b03c-4bd7-89a3-e3aa84c0ba29\">\n",
              "    <div class=\"colab-df-container\">\n",
              "      <div>\n",
              "<style scoped>\n",
              "    .dataframe tbody tr th:only-of-type {\n",
              "        vertical-align: middle;\n",
              "    }\n",
              "\n",
              "    .dataframe tbody tr th {\n",
              "        vertical-align: top;\n",
              "    }\n",
              "\n",
              "    .dataframe thead th {\n",
              "        text-align: right;\n",
              "    }\n",
              "</style>\n",
              "<table border=\"1\" class=\"dataframe\">\n",
              "  <thead>\n",
              "    <tr style=\"text-align: right;\">\n",
              "      <th></th>\n",
              "      <th>Source_IP</th>\n",
              "      <th>Destination_IP</th>\n",
              "      <th>Flow_Duration</th>\n",
              "      <th>Total_Fwd_Packets</th>\n",
              "      <th>Total_Backward_Packets</th>\n",
              "      <th>Total_Length_of_Fwd_Packets</th>\n",
              "      <th>Total_Length_of_Bwd_Packets</th>\n",
              "      <th>Fwd_Packet_Length_Max</th>\n",
              "      <th>Flow_Bytes/s</th>\n",
              "      <th>Flow_Packets/s</th>\n",
              "      <th>...</th>\n",
              "      <th>Fwd_Header_Length</th>\n",
              "      <th>Packet_Length_Mean</th>\n",
              "      <th>Packet_Length_Variance</th>\n",
              "      <th>Average_Packet_Size</th>\n",
              "      <th>Fwd_Header_Length.1</th>\n",
              "      <th>Subflow_Fwd_Bytes</th>\n",
              "      <th>Subflow_Bwd_Packets</th>\n",
              "      <th>Init_Win_bytes_forward</th>\n",
              "      <th>Init_Win_bytes_backward</th>\n",
              "      <th>Label</th>\n",
              "    </tr>\n",
              "  </thead>\n",
              "  <tbody>\n",
              "    <tr>\n",
              "      <th>0</th>\n",
              "      <td>24</td>\n",
              "      <td>146</td>\n",
              "      <td>5220876</td>\n",
              "      <td>12</td>\n",
              "      <td>9</td>\n",
              "      <td>1928.0</td>\n",
              "      <td>4290.0</td>\n",
              "      <td>509.0</td>\n",
              "      <td>1190.987873</td>\n",
              "      <td>4.022313</td>\n",
              "      <td>...</td>\n",
              "      <td>400</td>\n",
              "      <td>282.636364</td>\n",
              "      <td>179800.242424</td>\n",
              "      <td>296.095238</td>\n",
              "      <td>400</td>\n",
              "      <td>1928</td>\n",
              "      <td>9</td>\n",
              "      <td>65535</td>\n",
              "      <td>243</td>\n",
              "      <td>1</td>\n",
              "    </tr>\n",
              "    <tr>\n",
              "      <th>1</th>\n",
              "      <td>24</td>\n",
              "      <td>146</td>\n",
              "      <td>12644252</td>\n",
              "      <td>5</td>\n",
              "      <td>2</td>\n",
              "      <td>0.0</td>\n",
              "      <td>0.0</td>\n",
              "      <td>0.0</td>\n",
              "      <td>0.000000</td>\n",
              "      <td>0.553611</td>\n",
              "      <td>...</td>\n",
              "      <td>176</td>\n",
              "      <td>0.000000</td>\n",
              "      <td>0.000000</td>\n",
              "      <td>0.000000</td>\n",
              "      <td>176</td>\n",
              "      <td>0</td>\n",
              "      <td>2</td>\n",
              "      <td>65535</td>\n",
              "      <td>28960</td>\n",
              "      <td>1</td>\n",
              "    </tr>\n",
              "    <tr>\n",
              "      <th>2</th>\n",
              "      <td>313</td>\n",
              "      <td>150</td>\n",
              "      <td>3</td>\n",
              "      <td>2</td>\n",
              "      <td>0</td>\n",
              "      <td>0.0</td>\n",
              "      <td>0.0</td>\n",
              "      <td>0.0</td>\n",
              "      <td>0.000000</td>\n",
              "      <td>666666.666667</td>\n",
              "      <td>...</td>\n",
              "      <td>40</td>\n",
              "      <td>0.000000</td>\n",
              "      <td>0.000000</td>\n",
              "      <td>0.000000</td>\n",
              "      <td>40</td>\n",
              "      <td>0</td>\n",
              "      <td>0</td>\n",
              "      <td>0</td>\n",
              "      <td>-1</td>\n",
              "      <td>0</td>\n",
              "    </tr>\n",
              "    <tr>\n",
              "      <th>3</th>\n",
              "      <td>313</td>\n",
              "      <td>150</td>\n",
              "      <td>3</td>\n",
              "      <td>2</td>\n",
              "      <td>0</td>\n",
              "      <td>0.0</td>\n",
              "      <td>0.0</td>\n",
              "      <td>0.0</td>\n",
              "      <td>0.000000</td>\n",
              "      <td>666666.666667</td>\n",
              "      <td>...</td>\n",
              "      <td>40</td>\n",
              "      <td>0.000000</td>\n",
              "      <td>0.000000</td>\n",
              "      <td>0.000000</td>\n",
              "      <td>40</td>\n",
              "      <td>0</td>\n",
              "      <td>0</td>\n",
              "      <td>0</td>\n",
              "      <td>-1</td>\n",
              "      <td>0</td>\n",
              "    </tr>\n",
              "    <tr>\n",
              "      <th>4</th>\n",
              "      <td>133</td>\n",
              "      <td>194</td>\n",
              "      <td>114329232</td>\n",
              "      <td>52</td>\n",
              "      <td>0</td>\n",
              "      <td>0.0</td>\n",
              "      <td>0.0</td>\n",
              "      <td>0.0</td>\n",
              "      <td>0.000000</td>\n",
              "      <td>0.454827</td>\n",
              "      <td>...</td>\n",
              "      <td>0</td>\n",
              "      <td>0.000000</td>\n",
              "      <td>0.000000</td>\n",
              "      <td>0.000000</td>\n",
              "      <td>0</td>\n",
              "      <td>0</td>\n",
              "      <td>0</td>\n",
              "      <td>-1</td>\n",
              "      <td>-1</td>\n",
              "      <td>0</td>\n",
              "    </tr>\n",
              "    <tr>\n",
              "      <th>...</th>\n",
              "      <td>...</td>\n",
              "      <td>...</td>\n",
              "      <td>...</td>\n",
              "      <td>...</td>\n",
              "      <td>...</td>\n",
              "      <td>...</td>\n",
              "      <td>...</td>\n",
              "      <td>...</td>\n",
              "      <td>...</td>\n",
              "      <td>...</td>\n",
              "      <td>...</td>\n",
              "      <td>...</td>\n",
              "      <td>...</td>\n",
              "      <td>...</td>\n",
              "      <td>...</td>\n",
              "      <td>...</td>\n",
              "      <td>...</td>\n",
              "      <td>...</td>\n",
              "      <td>...</td>\n",
              "      <td>...</td>\n",
              "      <td>...</td>\n",
              "    </tr>\n",
              "    <tr>\n",
              "      <th>95</th>\n",
              "      <td>136</td>\n",
              "      <td>357</td>\n",
              "      <td>55463</td>\n",
              "      <td>1</td>\n",
              "      <td>3</td>\n",
              "      <td>0.0</td>\n",
              "      <td>0.0</td>\n",
              "      <td>0.0</td>\n",
              "      <td>0.000000</td>\n",
              "      <td>72.120152</td>\n",
              "      <td>...</td>\n",
              "      <td>20</td>\n",
              "      <td>0.000000</td>\n",
              "      <td>0.000000</td>\n",
              "      <td>0.000000</td>\n",
              "      <td>20</td>\n",
              "      <td>0</td>\n",
              "      <td>3</td>\n",
              "      <td>256</td>\n",
              "      <td>1892</td>\n",
              "      <td>0</td>\n",
              "    </tr>\n",
              "    <tr>\n",
              "      <th>96</th>\n",
              "      <td>136</td>\n",
              "      <td>357</td>\n",
              "      <td>1680140</td>\n",
              "      <td>19</td>\n",
              "      <td>20</td>\n",
              "      <td>2424.0</td>\n",
              "      <td>26090.0</td>\n",
              "      <td>482.0</td>\n",
              "      <td>16971.204781</td>\n",
              "      <td>23.212351</td>\n",
              "      <td>...</td>\n",
              "      <td>404</td>\n",
              "      <td>712.850000</td>\n",
              "      <td>931836.541026</td>\n",
              "      <td>731.128205</td>\n",
              "      <td>404</td>\n",
              "      <td>2424</td>\n",
              "      <td>20</td>\n",
              "      <td>64240</td>\n",
              "      <td>1959</td>\n",
              "      <td>0</td>\n",
              "    </tr>\n",
              "    <tr>\n",
              "      <th>97</th>\n",
              "      <td>136</td>\n",
              "      <td>357</td>\n",
              "      <td>15353246</td>\n",
              "      <td>14</td>\n",
              "      <td>16</td>\n",
              "      <td>1462.0</td>\n",
              "      <td>12670.0</td>\n",
              "      <td>377.0</td>\n",
              "      <td>920.456821</td>\n",
              "      <td>1.953984</td>\n",
              "      <td>...</td>\n",
              "      <td>304</td>\n",
              "      <td>455.870968</td>\n",
              "      <td>721533.849462</td>\n",
              "      <td>471.066667</td>\n",
              "      <td>304</td>\n",
              "      <td>1462</td>\n",
              "      <td>16</td>\n",
              "      <td>64240</td>\n",
              "      <td>1959</td>\n",
              "      <td>0</td>\n",
              "    </tr>\n",
              "    <tr>\n",
              "      <th>98</th>\n",
              "      <td>321</td>\n",
              "      <td>150</td>\n",
              "      <td>166</td>\n",
              "      <td>1</td>\n",
              "      <td>2</td>\n",
              "      <td>0.0</td>\n",
              "      <td>0.0</td>\n",
              "      <td>0.0</td>\n",
              "      <td>0.000000</td>\n",
              "      <td>18072.289157</td>\n",
              "      <td>...</td>\n",
              "      <td>20</td>\n",
              "      <td>0.000000</td>\n",
              "      <td>0.000000</td>\n",
              "      <td>0.000000</td>\n",
              "      <td>20</td>\n",
              "      <td>0</td>\n",
              "      <td>2</td>\n",
              "      <td>1892</td>\n",
              "      <td>256</td>\n",
              "      <td>0</td>\n",
              "    </tr>\n",
              "    <tr>\n",
              "      <th>99</th>\n",
              "      <td>321</td>\n",
              "      <td>150</td>\n",
              "      <td>104</td>\n",
              "      <td>1</td>\n",
              "      <td>2</td>\n",
              "      <td>0.0</td>\n",
              "      <td>0.0</td>\n",
              "      <td>0.0</td>\n",
              "      <td>0.000000</td>\n",
              "      <td>28846.153846</td>\n",
              "      <td>...</td>\n",
              "      <td>20</td>\n",
              "      <td>0.000000</td>\n",
              "      <td>0.000000</td>\n",
              "      <td>0.000000</td>\n",
              "      <td>20</td>\n",
              "      <td>0</td>\n",
              "      <td>2</td>\n",
              "      <td>1892</td>\n",
              "      <td>256</td>\n",
              "      <td>0</td>\n",
              "    </tr>\n",
              "  </tbody>\n",
              "</table>\n",
              "<p>100 rows × 28 columns</p>\n",
              "</div>\n",
              "      <button class=\"colab-df-convert\" onclick=\"convertToInteractive('df-f02d82db-b03c-4bd7-89a3-e3aa84c0ba29')\"\n",
              "              title=\"Convert this dataframe to an interactive table.\"\n",
              "              style=\"display:none;\">\n",
              "        \n",
              "  <svg xmlns=\"http://www.w3.org/2000/svg\" height=\"24px\"viewBox=\"0 0 24 24\"\n",
              "       width=\"24px\">\n",
              "    <path d=\"M0 0h24v24H0V0z\" fill=\"none\"/>\n",
              "    <path d=\"M18.56 5.44l.94 2.06.94-2.06 2.06-.94-2.06-.94-.94-2.06-.94 2.06-2.06.94zm-11 1L8.5 8.5l.94-2.06 2.06-.94-2.06-.94L8.5 2.5l-.94 2.06-2.06.94zm10 10l.94 2.06.94-2.06 2.06-.94-2.06-.94-.94-2.06-.94 2.06-2.06.94z\"/><path d=\"M17.41 7.96l-1.37-1.37c-.4-.4-.92-.59-1.43-.59-.52 0-1.04.2-1.43.59L10.3 9.45l-7.72 7.72c-.78.78-.78 2.05 0 2.83L4 21.41c.39.39.9.59 1.41.59.51 0 1.02-.2 1.41-.59l7.78-7.78 2.81-2.81c.8-.78.8-2.07 0-2.86zM5.41 20L4 18.59l7.72-7.72 1.47 1.35L5.41 20z\"/>\n",
              "  </svg>\n",
              "      </button>\n",
              "      \n",
              "  <style>\n",
              "    .colab-df-container {\n",
              "      display:flex;\n",
              "      flex-wrap:wrap;\n",
              "      gap: 12px;\n",
              "    }\n",
              "\n",
              "    .colab-df-convert {\n",
              "      background-color: #E8F0FE;\n",
              "      border: none;\n",
              "      border-radius: 50%;\n",
              "      cursor: pointer;\n",
              "      display: none;\n",
              "      fill: #1967D2;\n",
              "      height: 32px;\n",
              "      padding: 0 0 0 0;\n",
              "      width: 32px;\n",
              "    }\n",
              "\n",
              "    .colab-df-convert:hover {\n",
              "      background-color: #E2EBFA;\n",
              "      box-shadow: 0px 1px 2px rgba(60, 64, 67, 0.3), 0px 1px 3px 1px rgba(60, 64, 67, 0.15);\n",
              "      fill: #174EA6;\n",
              "    }\n",
              "\n",
              "    [theme=dark] .colab-df-convert {\n",
              "      background-color: #3B4455;\n",
              "      fill: #D2E3FC;\n",
              "    }\n",
              "\n",
              "    [theme=dark] .colab-df-convert:hover {\n",
              "      background-color: #434B5C;\n",
              "      box-shadow: 0px 1px 3px 1px rgba(0, 0, 0, 0.15);\n",
              "      filter: drop-shadow(0px 1px 2px rgba(0, 0, 0, 0.3));\n",
              "      fill: #FFFFFF;\n",
              "    }\n",
              "  </style>\n",
              "\n",
              "      <script>\n",
              "        const buttonEl =\n",
              "          document.querySelector('#df-f02d82db-b03c-4bd7-89a3-e3aa84c0ba29 button.colab-df-convert');\n",
              "        buttonEl.style.display =\n",
              "          google.colab.kernel.accessAllowed ? 'block' : 'none';\n",
              "\n",
              "        async function convertToInteractive(key) {\n",
              "          const element = document.querySelector('#df-f02d82db-b03c-4bd7-89a3-e3aa84c0ba29');\n",
              "          const dataTable =\n",
              "            await google.colab.kernel.invokeFunction('convertToInteractive',\n",
              "                                                     [key], {});\n",
              "          if (!dataTable) return;\n",
              "\n",
              "          const docLinkHtml = 'Like what you see? Visit the ' +\n",
              "            '<a target=\"_blank\" href=https://colab.research.google.com/notebooks/data_table.ipynb>data table notebook</a>'\n",
              "            + ' to learn more about interactive tables.';\n",
              "          element.innerHTML = '';\n",
              "          dataTable['output_type'] = 'display_data';\n",
              "          await google.colab.output.renderOutput(dataTable, element);\n",
              "          const docLink = document.createElement('div');\n",
              "          docLink.innerHTML = docLinkHtml;\n",
              "          element.appendChild(docLink);\n",
              "        }\n",
              "      </script>\n",
              "    </div>\n",
              "  </div>\n",
              "  "
            ]
          },
          "metadata": {},
          "execution_count": 241
        }
      ],
      "source": [
        "df.head(100)"
      ]
    },
    {
      "cell_type": "code",
      "execution_count": null,
      "metadata": {
        "id": "FDBFJUq7TAw1"
      },
      "outputs": [],
      "source": [
        "df.replace([np.inf, -np.inf], np.nan, inplace=True)\n",
        "df.fillna(999, inplace=True)"
      ]
    },
    {
      "cell_type": "code",
      "execution_count": null,
      "metadata": {
        "colab": {
          "base_uri": "https://localhost:8080/"
        },
        "id": "QaUpMIyNTOLW",
        "outputId": "95ac4180-4264-43f7-9529-716bfda75259"
      },
      "outputs": [
        {
          "output_type": "execute_result",
          "data": {
            "text/plain": [
              "(1217007, 28)"
            ]
          },
          "metadata": {},
          "execution_count": 243
        }
      ],
      "source": [
        "df.shape"
      ]
    },
    {
      "cell_type": "markdown",
      "source": [
        "# **Splitting Train and Test data**"
      ],
      "metadata": {
        "id": "kG62sfMiPqjo"
      }
    },
    {
      "cell_type": "code",
      "execution_count": null,
      "metadata": {
        "id": "HCVQxCMIP_CR"
      },
      "outputs": [],
      "source": [
        "\n",
        "X = df.iloc[:,:-1].values\n",
        "Y = df.iloc[:,-1].values\n",
        "\n",
        "# Splitting the dataset into the Training set and Test set\n",
        "\n",
        "from sklearn.model_selection import train_test_split\n",
        "X_Train, X_Test, Y_Train, Y_Test = train_test_split(X, Y, test_size = 0.3, random_state = 0)\n",
        "\n"
      ]
    },
    {
      "cell_type": "code",
      "execution_count": null,
      "metadata": {
        "colab": {
          "base_uri": "https://localhost:8080/"
        },
        "id": "T3xIk3HQNcYe",
        "outputId": "3f7f7201-b943-49c1-b5c8-52ca9421baab"
      },
      "outputs": [
        {
          "output_type": "execute_result",
          "data": {
            "text/plain": [
              "(365103, 27)"
            ]
          },
          "metadata": {},
          "execution_count": 245
        }
      ],
      "source": [
        "X_Test.shape"
      ]
    },
    {
      "cell_type": "code",
      "execution_count": null,
      "metadata": {
        "id": "BlHjTXDUb-zt"
      },
      "outputs": [],
      "source": [
        "feature_cols = df.columns[:-1]"
      ]
    },
    {
      "cell_type": "code",
      "execution_count": null,
      "metadata": {
        "colab": {
          "base_uri": "https://localhost:8080/"
        },
        "id": "2G1pcuH-lfH2",
        "outputId": "6f499e0b-962b-4421-9b77-2e7abbf0cb0e"
      },
      "outputs": [
        {
          "output_type": "execute_result",
          "data": {
            "text/plain": [
              "Index(['Source_IP', 'Destination_IP', 'Flow_Duration', 'Total_Fwd_Packets',\n",
              "       'Total_Backward_Packets', 'Total_Length_of_Fwd_Packets',\n",
              "       'Total_Length_of_Bwd_Packets', 'Fwd_Packet_Length_Max', 'Flow_Bytes/s',\n",
              "       'Flow_Packets/s', 'Flow_IAT_Mean', 'Flow_IAT_Std', 'Flow_IAT_Max',\n",
              "       'Flow_IAT_Min', 'Fwd_IAT_Total', 'Fwd_IAT_Mean', 'Fwd_IAT_Std',\n",
              "       'Fwd_IAT_Max', 'Fwd_Header_Length', 'Packet_Length_Mean',\n",
              "       'Packet_Length_Variance', 'Average_Packet_Size', 'Fwd_Header_Length.1',\n",
              "       'Subflow_Fwd_Bytes', 'Subflow_Bwd_Packets', 'Init_Win_bytes_forward',\n",
              "       'Init_Win_bytes_backward'],\n",
              "      dtype='object')"
            ]
          },
          "metadata": {},
          "execution_count": 247
        }
      ],
      "source": [
        "feature_cols"
      ]
    },
    {
      "cell_type": "markdown",
      "source": [
        "# **Random Forest Classifier**"
      ],
      "metadata": {
        "id": "zdynBsJjPlBi"
      }
    },
    {
      "cell_type": "code",
      "execution_count": null,
      "metadata": {
        "id": "fG-w7-Ov8Jm-"
      },
      "outputs": [],
      "source": [
        "# Feature Scaling\n",
        "\n",
        "from sklearn.preprocessing import StandardScaler\n",
        "sc_X = StandardScaler()\n",
        "X_Train = sc_X.fit_transform(X_Train)\n",
        "X_Test = sc_X.transform(X_Test)\n",
        "\n",
        "# Fitting the classifier into the Training set\n",
        "from sklearn.ensemble import RandomForestClassifier\n",
        "from sklearn.model_selection import StratifiedKFold\n",
        "from sklearn.metrics import roc_curve, auc\n",
        "rf = RandomForestClassifier(\n",
        "    n_estimators=250,\n",
        "    criterion='gini',\n",
        "    max_depth=5,\n",
        "    min_samples_split=2,\n",
        "    min_samples_leaf=1,\n",
        "    min_weight_fraction_leaf=0.0,\n",
        "    max_features='auto',\n",
        "    max_leaf_nodes=None,\n",
        "    min_impurity_decrease=0.0,\n",
        "    bootstrap=True,\n",
        "    oob_score=False,\n",
        "    n_jobs=-1,\n",
        "    random_state=0,\n",
        "    verbose=0,\n",
        "    warm_start=False,\n",
        ")\n",
        "rf.fit(X_Train,Y_Train)\n",
        "\n",
        "# Predicting the test set results\n",
        "\n",
        "Y_Pred = rf.predict(X_Test)\n",
        "\n"
      ]
    },
    {
      "cell_type": "markdown",
      "source": [
        "# **Accuracy Measure**"
      ],
      "metadata": {
        "id": "kG8QuhrlPhV7"
      }
    },
    {
      "cell_type": "code",
      "execution_count": null,
      "metadata": {
        "colab": {
          "base_uri": "https://localhost:8080/"
        },
        "id": "X4YAUjAcMi3d",
        "outputId": "5481cbff-a994-456a-e436-d8f85e05ba8f"
      },
      "outputs": [
        {
          "output_type": "execute_result",
          "data": {
            "text/plain": [
              "0.9999945220937653"
            ]
          },
          "metadata": {},
          "execution_count": 249
        }
      ],
      "source": [
        "from sklearn import metrics\n",
        "\n",
        "metrics.accuracy_score(Y_Test,Y_Pred)"
      ]
    },
    {
      "cell_type": "markdown",
      "source": [
        "# **ROC Curve**"
      ],
      "metadata": {
        "id": "K8IrA7cCY3Cx"
      }
    },
    {
      "cell_type": "code",
      "source": [
        "import matplotlib.pyplot as plt\n",
        "from sklearn import datasets, metrics, model_selection\n",
        "\n",
        "metrics.plot_roc_curve(rf, X_Test, Y_Test) \n",
        "plt.show()"
      ],
      "metadata": {
        "colab": {
          "base_uri": "https://localhost:8080/",
          "height": 334
        },
        "id": "67LwDBCfYSCb",
        "outputId": "41f49976-3b93-42fe-e1e3-c078d723f93c"
      },
      "execution_count": null,
      "outputs": [
        {
          "output_type": "stream",
          "name": "stderr",
          "text": [
            "/usr/local/lib/python3.7/dist-packages/sklearn/utils/deprecation.py:87: FutureWarning: Function plot_roc_curve is deprecated; Function :func:`plot_roc_curve` is deprecated in 1.0 and will be removed in 1.2. Use one of the class methods: :meth:`sklearn.metric.RocCurveDisplay.from_predictions` or :meth:`sklearn.metric.RocCurveDisplay.from_estimator`.\n",
            "  warnings.warn(msg, category=FutureWarning)\n"
          ]
        },
        {
          "output_type": "display_data",
          "data": {
            "text/plain": [
              "<Figure size 432x288 with 1 Axes>"
            ],
            "image/png": "[encoded data removed]"
          },
          "metadata": {
            "needs_background": "light"
          }
        }
      ]
    },
    {
      "cell_type": "markdown",
      "source": [
        "# **Cross Validation**"
      ],
      "metadata": {
        "id": "hMrvjuIkPdNs"
      }
    },
    {
      "cell_type": "code",
      "source": [
        "from sklearn.model_selection import cross_val_score\n",
        "score_rf=cross_val_score(rf,X_Train, Y_Train,cv=5)\n",
        "print(score_rf)\n",
        "print('avg:',np.average(score_rf))\n"
      ],
      "metadata": {
        "colab": {
          "base_uri": "https://localhost:8080/"
        },
        "id": "ZiiP51ZMict7",
        "outputId": "7e3cfb57-3557-4021-f8fe-37478ecd6130"
      },
      "execution_count": null,
      "outputs": [
        {
          "output_type": "stream",
          "name": "stdout",
          "text": [
            "[1.         0.99998826 1.         0.99999413 1.        ]\n",
            "avg: 0.9999964784805819\n"
          ]
        }
      ]
    },
    {
      "cell_type": "markdown",
      "source": [
        "# **Feature Selection**"
      ],
      "metadata": {
        "id": "5jP2ZuCJZGeo"
      }
    },
    {
      "cell_type": "code",
      "source": [
        "var_columns1= [c for c in df.columns]\n",
        "#checking the importance of parameters so as to know which have more impact and which have less impact on final Fault value\n",
        "#pd.DataFrame({\"Variable name\":var_columns1,\"Importance\":rf.feature_importances_}).sort_values('Importance', ascending=False)"
      ],
      "metadata": {
        "id": "AQAH3Z7ZZFJQ"
      },
      "execution_count": null,
      "outputs": []
    },
    {
      "cell_type": "markdown",
      "source": [
        "# **Navie bayes Model**"
      ],
      "metadata": {
        "id": "2Sx-09dwZLxC"
      }
    },
    {
      "cell_type": "code",
      "execution_count": 253,
      "metadata": {
        "id": "amYi_SZGK4Rw"
      },
      "outputs": [],
      "source": [
        "from sklearn.model_selection import train_test_split\n",
        "from sklearn.naive_bayes import GaussianNB\n",
        "\n",
        "gnb = GaussianNB()\n",
        "y_pred = gnb.fit(X_Train, Y_Train).predict(X_Test)"
      ]
    },
    {
      "cell_type": "code",
      "execution_count": 254,
      "metadata": {
        "id": "3rhXBo6JLVCi",
        "colab": {
          "base_uri": "https://localhost:8080/"
        },
        "outputId": "3f67ca8a-1331-4120-cf11-61549913abef"
      },
      "outputs": [
        {
          "output_type": "stream",
          "name": "stdout",
          "text": [
            "98.94166851546002\n"
          ]
        }
      ],
      "source": [
        "from sklearn.metrics import confusion_matrix\n",
        "cm = confusion_matrix(Y_Test, y_pred)\n",
        "tn, fp, fn, tp = confusion_matrix(Y_Test, y_pred).ravel()\n",
        "Accuracy = (tn+tp)*100/(tp+tn+fp+fn) \n",
        "print(Accuracy)"
      ]
    },
    {
      "cell_type": "markdown",
      "source": [
        "# **Cross validation 10 fold**"
      ],
      "metadata": {
        "id": "BcsOzf8vZeBT"
      }
    },
    {
      "cell_type": "code",
      "source": [
        "from sklearn.model_selection import cross_val_score\n",
        "score_nb=cross_val_score(gnb,X_Train, Y_Train,cv=10)\n",
        "print(score_nb)\n",
        "print('avg:',np.average(score_nb))"
      ],
      "metadata": {
        "id": "PXzUqCK4jiLZ",
        "colab": {
          "base_uri": "https://localhost:8080/"
        },
        "outputId": "c8a4ea12-04d2-4434-a627-aaafbb4b413c"
      },
      "execution_count": 256,
      "outputs": [
        {
          "output_type": "stream",
          "name": "stdout",
          "text": [
            "[0.98977592 0.98895423 0.98941203 0.9894942  0.9895645  0.98900106\n",
            " 0.9894706  0.98957624 0.98904801 0.98924756]\n",
            "avg: 0.9893544340458152\n"
          ]
        }
      ]
    },
    {
      "cell_type": "code",
      "execution_count": null,
      "metadata": {
        "id": "uF3zEdeQQMdM"
      },
      "outputs": [],
      "source": [
        ""
      ]
    }
  ],
  "metadata": {
    "colab": {
      "name": "mini.ipynb",
      "provenance": [],
      "mount_file_id": "11jfaCZ3FNQWYPX6fT5q6wSfWs-V-nZXE",
      "authorship_tag": "ABX9TyMbhitUrobzzt9Ewf5BVErx",
      "include_colab_link": true
    },
    "kernelspec": {
      "display_name": "Python 3",
      "name": "python3"
    },
    "language_info": {
      "name": "python"
    }
  },
  "nbformat": 4,
  "nbformat_minor": 0
}